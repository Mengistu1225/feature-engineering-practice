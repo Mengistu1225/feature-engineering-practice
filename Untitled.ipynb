{
 "cells": [
  {
   "cell_type": "code",
   "execution_count": 3,
   "id": "5c8380c0-c212-4302-a555-27780caaaaf5",
   "metadata": {},
   "outputs": [
    {
     "name": "stdout",
     "output_type": "stream",
     "text": [
      "    Age\n",
      "0  22.0\n",
      "1   NaN\n",
      "2  24.0\n",
      "3   NaN\n",
      "4  28.0\n",
      "    Age  Age_Arbitrary_Imputed\n",
      "0  22.0                   22.0\n",
      "1   NaN                  999.0\n",
      "2  24.0                   24.0\n",
      "3   NaN                  999.0\n",
      "4  28.0                   28.0\n"
     ]
    }
   ],
   "source": [
    "import pandas as pd\n",
    "import numpy as np\n",
    "\n",
    "# Sample DataFrame\n",
    "data = {'Age': [22, np.nan, 24, np.nan, 28]}\n",
    "df = pd.DataFrame(data)\n",
    "print(df)\n",
    "# Apply arbitrary imputation with the value 999 for missing 'Age' values\n",
    "df['Age_Arbitrary_Imputed'] = df['Age'].fillna(999)\n",
    "\n",
    "print(df)\n"
   ]
  },
  {
   "cell_type": "code",
   "execution_count": null,
   "id": "fe0e2199-15ef-4d81-999c-fa99ec8fbcde",
   "metadata": {},
   "outputs": [],
   "source": []
  }
 ],
 "metadata": {
  "kernelspec": {
   "display_name": "Python 3 (ipykernel)",
   "language": "python",
   "name": "python3"
  },
  "language_info": {
   "codemirror_mode": {
    "name": "ipython",
    "version": 3
   },
   "file_extension": ".py",
   "mimetype": "text/x-python",
   "name": "python",
   "nbconvert_exporter": "python",
   "pygments_lexer": "ipython3",
   "version": "3.12.4"
  }
 },
 "nbformat": 4,
 "nbformat_minor": 5
}
